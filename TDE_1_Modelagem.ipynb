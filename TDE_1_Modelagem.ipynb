{
  "nbformat": 4,
  "nbformat_minor": 0,
  "metadata": {
    "colab": {
      "provenance": [],
      "authorship_tag": "ABX9TyOVpR4u9ZVh3E8PqQXjvYxb",
      "include_colab_link": true
    },
    "kernelspec": {
      "name": "python3",
      "display_name": "Python 3"
    },
    "language_info": {
      "name": "python"
    }
  },
  "cells": [
    {
      "cell_type": "markdown",
      "metadata": {
        "id": "view-in-github",
        "colab_type": "text"
      },
      "source": [
        "<a href=\"https://colab.research.google.com/github/Tuzapeno/TDE-1-Modelagem/blob/main/TDE_1_Modelagem.ipynb\" target=\"_parent\"><img src=\"https://colab.research.google.com/assets/colab-badge.svg\" alt=\"Open In Colab\"/></a>"
      ]
    },
    {
      "cell_type": "markdown",
      "source": [
        "#Alunos: Arthur Neumann, Guilherme Scharwz, Eduardo Belleboni, João Aires"
      ],
      "metadata": {
        "id": "ppixeWNAscRM"
      }
    },
    {
      "cell_type": "markdown",
      "source": [
        "#Ex 1\n",
        "Escreva uma função em Python que compute o valor da função abaixo, emitindo uma\n",
        "mensagem de erro caso a função receba um valor não permitido. Além disso, a função deverá\n",
        "plotar um gráfico da função no intervalo entre ±10, destacando neste gráfico os pontos\n",
        "relacionados ao valor de passado para a função."
      ],
      "metadata": {
        "id": "5rc-wZYWo8g8"
      }
    },
    {
      "cell_type": "code",
      "execution_count": null,
      "metadata": {
        "id": "mqXIy1FbiT7n",
        "colab": {
          "base_uri": "https://localhost:8080/",
          "height": 448
        },
        "outputId": "89e219af-6e98-446a-e566-0bbc8d49232d"
      },
      "outputs": [
        {
          "name": "stdout",
          "output_type": "stream",
          "text": [
            "Digite o valor desejado: 1.2\n"
          ]
        },
        {
          "output_type": "display_data",
          "data": {
            "text/plain": [
              "<Figure size 640x480 with 1 Axes>"
            ],
            "image/png": "[encoded data removed]"
          },
          "metadata": {}
        }
      ],
      "source": [
        "from matplotlib import pyplot as plt\n",
        "import math\n",
        "import numpy as np\n",
        "\n",
        "def f(x):\n",
        "    if x >= 2:\n",
        "        raise Exception(f\"Valor inválido para a função: {x}\")\n",
        "    return 1 / math.sqrt(2 - x)\n",
        "    \n",
        "values = np.linspace(-10, 10, 1000)\n",
        "x_s = [i for i in values if i < 2]\n",
        "y_s = [f(i) for i in x_s if i < 2]\n",
        "plt.plot(x_s, y_s)\n",
        "\n",
        "inp = float(input(\"Digite o valor desejado: \"))\n",
        "inp_y = f(inp)\n",
        "plt.plot(inp, inp_y, \"ro\")\n",
        "plt.show()"
      ]
    },
    {
      "cell_type": "markdown",
      "source": [
        "#Ex 2\n",
        "Utilizando a linguagem Python, e somente as bibliotecas Matplotlib e Numpy, crie uma\n",
        "função para plotar uma raquete de tênis de mesa. No seu gráfico a raquete deve ser plotada\n",
        "de forma que seja possível observar tanto o cabo quanto a área de rebatimento."
      ],
      "metadata": {
        "id": "hT-RkHgadu-X"
      }
    },
    {
      "cell_type": "code",
      "source": [
        "import matplotlib.pyplot as plt\n",
        "from matplotlib.patches import Circle, Rectangle\n",
        "\n",
        "def raquete():\n",
        "    fig, ax = plt.subplots()\n",
        "\n",
        "    circulo = Circle((0.5, 0.5), 0.2, edgecolor='blue', facecolor='blue', linewidth=2)\n",
        "    retangulo = Rectangle((0.5 - 0.05, 0.5 - 0.4), 0.1, 0.2, edgecolor='red', facecolor='red', linewidth=2)\n",
        "\n",
        "    ax.add_patch(circulo)\n",
        "    ax.add_patch(retangulo)\n",
        "\n",
        "    plt.show()\n",
        "\n",
        "raquete()"
      ],
      "metadata": {
        "colab": {
          "base_uri": "https://localhost:8080/",
          "height": 435
        },
        "id": "FhlbeDiAp2Tj",
        "outputId": "44e9b37e-7286-48b1-af2f-3eb861643127"
      },
      "execution_count": null,
      "outputs": [
        {
          "output_type": "display_data",
          "data": {
            "text/plain": [
              "<Figure size 640x480 with 1 Axes>"
            ],
            "image/png": "[encoded data removed]"
          },
          "metadata": {}
        }
      ]
    },
    {
      "cell_type": "markdown",
      "source": [
        "#Ex 3\n",
        "Utilizando a linguagem Python, nenhuma biblioteca extra e List Comprehension crie uma\n",
        "função que devolva o resultado da fórmula a seguir para 𝑛 elementos."
      ],
      "metadata": {
        "id": "Px4b4QERpCZO"
      }
    },
    {
      "cell_type": "code",
      "source": [
        "def soma(n):\n",
        "    if n <= 1:\n",
        "        return 1 / (1 + 2)\n",
        "    else:\n",
        "        return (1 / (1 + 2*n)) + soma(n - 1)\n",
        "\n",
        "def f(x):\n",
        "    return 4 * (1 - soma(x))\n",
        "\n",
        "x = int(input(\"Digite o valor desejado: \"))\n",
        "print(f(x))"
      ],
      "metadata": {
        "colab": {
          "base_uri": "https://localhost:8080/"
        },
        "id": "MylrFFccpD3X",
        "outputId": "0acfcf11-7914-4bc6-c6d7-f50b7e046e32"
      },
      "execution_count": null,
      "outputs": [
        {
          "output_type": "stream",
          "name": "stdout",
          "text": [
            "Digite o valor desejado: 3\n",
            "1.295238095238095\n"
          ]
        }
      ]
    },
    {
      "cell_type": "markdown",
      "source": [
        "#Ex 4\n",
        "Usando a linguagem Python, sem utilizar as bibliotecas Sympy e Numpy, escreva uma função\n",
        "que receba um valor 𝑛 no domínio dos números reais e devolva o limite da função dada a\n",
        "seguir quando 𝑥 tende a 𝑛."
      ],
      "metadata": {
        "id": "iKO3REr6pI85"
      }
    },
    {
      "cell_type": "code",
      "source": [
        "from matplotlib import pyplot as plt\n",
        "import math as m\n",
        "\n",
        "def limite(x):\n",
        "    if not x <= 0:\n",
        "        return 3*(x**2) - 1 / m.sqrt(x)\n",
        "\n",
        "x = float(input(\"Digite o valor desejado: \"))\n",
        "print(limite(x))\n",
        "\n",
        "\n"
      ],
      "metadata": {
        "id": "_RcOJqw-pVJH",
        "colab": {
          "base_uri": "https://localhost:8080/"
        },
        "outputId": "64998d3b-2c65-4a81-f393-3573c92bc9b3"
      },
      "execution_count": null,
      "outputs": [
        {
          "output_type": "stream",
          "name": "stdout",
          "text": [
            "Digite o valor desejado: 5\n",
            "74.55278640450004\n"
          ]
        }
      ]
    },
    {
      "cell_type": "markdown",
      "source": [
        "#Ex 5\n",
        "\n",
        "ClockCom é uma fábrica de relógios digitais capaz de produzir 1500 relógios por mês. Quando\n",
        "eles vendem 𝑥 relógios em um mês seu lucro é dado por\n",
        "𝑓(𝑥) = 300000 − 36000𝑥 + 75𝑥2 − 𝑥3 / 3 \n",
        "Quantos relógios eles precisam vender por mês para maximizar seu lucro? Além de responder\n",
        "a pergunta referente ao lucro máximo, você precisará fazer uma função que devolva o lucro\n",
        "obtido para um determinado número 𝑥 de relógios vendidos em um determinado mês e\n",
        "plote esta função, destacando o ponto de lucro máximo e o ponto referente a quantidade\n",
        "vendida em um mês específico."
      ],
      "metadata": {
        "id": "h433SyNLKviy"
      }
    },
    {
      "cell_type": "markdown",
      "source": [
        "\n",
        "Para encontrar a derivada da função, aplicaremos as regras de derivação para cada termo.\n",
        "\n",
        "$$\n",
        "f(x) = 300000 - 36000x + 75x^2 - \\frac{x^3}{3}\n",
        "$$\n",
        "\n",
        "\n",
        "Primeiro, encontre a derivada de cada termo individualmente:\n",
        "\n",
        "    Derivada de 300000 (constante) é 0.\n",
        "    Derivada de -36000𝑥 é -36000.\n",
        "    Derivada de 75𝑥^2 é 150𝑥 (usando a regra da potência: nx^(n-1)).\n",
        "    Derivada de -(𝑥^3 / 3) é -𝑥^2 (usando a regra da potência).\n",
        "\n",
        "Somando as derivadas de cada termo para obter a derivada da função completa:\n",
        "\n",
        "$$\n",
        "f'(x) = -x^2 + 150x - 36000\n",
        "$$\n",
        "\n",
        "Para encontrar os pontos críticos, igualaremos a derivada a zero:\n",
        "\n",
        "$$\n",
        "-x^2 + 150x - 36000 = 0\n",
        "$$\n",
        "\n",
        "Resolveremos usando bhaskara:\n",
        "\n",
        "$$\n",
        "x = \\frac{(-b ± √(b² - 4ac))}{2a}\n",
        "$$\n",
        "\n",
        "Neste caso, a = -1, b = 150 e c = -36000. Substituindo esses valores na fórmula, obtemos:\n",
        "\n",
        "$$\n",
        "x = \\frac{( -150 ± √(150² - 4(-1)(-36000)) )}{2(-1)}\n",
        "$$\n",
        "\n",
        "$$\n",
        "x = \\frac{( -150 ± √(22500 - 144000) )}{-2}\n",
        "$$\n",
        "\n",
        "$$\n",
        "x = \\frac{( -150 ± √(-121500) )}{-2}\n",
        "$$\n",
        "\n",
        "Aqui, o termo dentro da raiz quadrada é negativo, o que significa que não há soluções reais para essa equação. \n",
        "Portanto, não temos como obter um valor de máxima ou mínima.\n",
        "\n"
      ],
      "metadata": {
        "id": "Q0idsIyTLVhT"
      }
    }
  ]
}